{
 "cells": [
  {
   "cell_type": "code",
   "execution_count": null,
   "metadata": {},
   "outputs": [],
   "source": [
    "import ray \n",
    "ray.init()\n",
    "nums = ray.cluster_resources().get(\"GPU\", 0)"
   ]
  },
  {
   "cell_type": "code",
   "execution_count": null,
   "metadata": {},
   "outputs": [],
   "source": [
    "import datasets\n",
    "import os \n",
    "os.environ[\"HF_ENDPOINT\"] = \"https://hf-mirror.com\"\n",
    "cache_dir = \"/home/huyanwei/projects/models\"\n",
    "eval_set = datasets.load_dataset(path=\"tatsu-lab/alpaca_eval\", name=\"alpaca_eval\", cache_dir=cache_dir)[\"eval\"]"
   ]
  },
  {
   "cell_type": "code",
   "execution_count": 4,
   "metadata": {},
   "outputs": [],
   "source": [
    "import datasets \n",
    "config = datasets.DownloadConfig(resume_download=True, max_retries=100) \n",
    "cache_dir = \"/home/huyanwei/projects/models\"\n",
    "dataset = datasets.load_dataset( \"tatsu-lab/alpaca_eval\", cache_dir=cache_dir, download_config=config)"
   ]
  },
  {
   "cell_type": "code",
   "execution_count": null,
   "metadata": {},
   "outputs": [],
   "source": [
    "hugs Datasets 使用小贴士: 探索解决数据集无法下载的问题\n"
   ]
  }
 ],
 "metadata": {
  "kernelspec": {
   "display_name": "base",
   "language": "python",
   "name": "python3"
  },
  "language_info": {
   "codemirror_mode": {
    "name": "ipython",
    "version": 3
   },
   "file_extension": ".py",
   "mimetype": "text/x-python",
   "name": "python",
   "nbconvert_exporter": "python",
   "pygments_lexer": "ipython3",
   "version": "3.9.12"
  }
 },
 "nbformat": 4,
 "nbformat_minor": 2
}
