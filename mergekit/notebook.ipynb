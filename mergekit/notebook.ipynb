{
  "cells": [
    {
      "cell_type": "code",
      "execution_count": null,
      "metadata": {
        "collapsed": true,
        "id": "cmjOVVtJdiPZ"
      },
      "outputs": [],
      "source": [
        "!git clone https://github.com/cg123/mergekit.git\n",
        "%cd mergekit\n",
        "%pip install -e ."
      ]
    },
    {
      "cell_type": "code",
      "execution_count": null,
      "metadata": {
        "id": "84cRJT6_ecbw"
      },
      "outputs": [],
      "source": [
        "OUTPUT_PATH = \"./merged/gradient-slerp\"  # folder to store the result in\n",
        "LORA_MERGE_CACHE = \"\"  # change if you want to keep these for some reason\n",
        "CONFIG_YML = \"./examples/gradient-slerp.yml\"  # merge configuration file\n",
        "COPY_TOKENIZER = True  # you want a tokenizer? yeah, that's what i thought\n",
        "LAZY_UNPICKLE = False  # experimental low-memory model loader\n",
        "LOW_CPU_MEMORY = False  # enable if you somehow have more VRAM than RAM+swap"
      ]
    },
    {
      "cell_type": "code",
      "execution_count": null,
      "metadata": {
        "id": "6nw26xQLkBax"
      },
      "outputs": [],
      "source": [
        "# actually do merge\n",
        "import os \n",
        "os.environ[\"HF_ENDPOINT\"] = \"https://hf-mirror.com\"\n",
        "import torch\n",
        "import mergekit.scripts.run_yaml\n",
        "\n",
        "mergekit.scripts.run_yaml.main(\n",
        "    CONFIG_YML,\n",
        "    OUTPUT_PATH,\n",
        "    LORA_MERGE_CACHE,\n",
        "    cuda=torch.cuda.is_available(),\n",
        "    copy_tokenizer=COPY_TOKENIZER,\n",
        "    lazy_unpickle=LAZY_UNPICKLE,\n",
        "    low_cpu_memory=LOW_CPU_MEMORY,\n",
        ")"
      ]
    },
    {
      "cell_type": "code",
      "execution_count": null,
      "metadata": {},
      "outputs": [],
      "source": [
        "import huggingface_hub\n",
        "path = \"gpt2\"\n",
        "patterns = ['tokenizer.model', '*.json', '*.safetensors']\n",
        "# cache_dir = '/Users/weihuyan/Projects/model_merge/temp_download'\n",
        "path = huggingface_hub.snapshot_download(path, allow_patterns=patterns)\n",
        "# path = huggingface_hub.snapshot_download(path, cache_dir=cache_dir)"
      ]
    },
    {
      "cell_type": "code",
      "execution_count": 14,
      "metadata": {},
      "outputs": [],
      "source": [
        "import safetensors\n",
        "import os \n",
        "model_path = \"/home/huyanwei/projects/mergekit/merged/gpt2-small/model-00001-of-00001.safetensors\"\n",
        "shard_name = os.path.basename(model_path)\n",
        "if model_path.lower().endswith(\".safetensors\"):\n",
        "    with safetensors.safe_open(model_path, framework=\"pt\") as st:\n",
        "        temp_keys = st.metadata\n",
        "        temp_values = st.get_tensor('h.0.attn.c_attn.bias')\n",
        "        tensor_paths = {key: shard_name for key in st.keys()}"
      ]
    },
    {
      "cell_type": "code",
      "execution_count": 15,
      "metadata": {},
      "outputs": [
        {
          "data": {
            "text/plain": [
              "<function safe_open.metadata()>"
            ]
          },
          "execution_count": 15,
          "metadata": {},
          "output_type": "execute_result"
        }
      ],
      "source": []
    },
    {
      "cell_type": "code",
      "execution_count": 2,
      "metadata": {},
      "outputs": [
        {
          "data": {
            "text/plain": [
              "{'h.0.attn.c_attn.bias': 'model-00001-of-00001.safetensors',\n",
              " 'h.0.attn.c_attn.weight': 'model-00001-of-00001.safetensors',\n",
              " 'h.0.attn.c_proj.bias': 'model-00001-of-00001.safetensors',\n",
              " 'h.0.attn.c_proj.weight': 'model-00001-of-00001.safetensors',\n",
              " 'h.0.ln_1.bias': 'model-00001-of-00001.safetensors',\n",
              " 'h.0.ln_1.weight': 'model-00001-of-00001.safetensors',\n",
              " 'h.0.ln_2.bias': 'model-00001-of-00001.safetensors',\n",
              " 'h.0.ln_2.weight': 'model-00001-of-00001.safetensors',\n",
              " 'h.0.mlp.c_fc.bias': 'model-00001-of-00001.safetensors',\n",
              " 'h.0.mlp.c_fc.weight': 'model-00001-of-00001.safetensors',\n",
              " 'h.0.mlp.c_proj.bias': 'model-00001-of-00001.safetensors',\n",
              " 'h.0.mlp.c_proj.weight': 'model-00001-of-00001.safetensors',\n",
              " 'h.1.attn.c_attn.bias': 'model-00001-of-00001.safetensors',\n",
              " 'h.1.attn.c_attn.weight': 'model-00001-of-00001.safetensors',\n",
              " 'h.1.attn.c_proj.bias': 'model-00001-of-00001.safetensors',\n",
              " 'h.1.attn.c_proj.weight': 'model-00001-of-00001.safetensors',\n",
              " 'h.1.ln_1.bias': 'model-00001-of-00001.safetensors',\n",
              " 'h.1.ln_1.weight': 'model-00001-of-00001.safetensors',\n",
              " 'h.1.ln_2.bias': 'model-00001-of-00001.safetensors',\n",
              " 'h.1.ln_2.weight': 'model-00001-of-00001.safetensors',\n",
              " 'h.1.mlp.c_fc.bias': 'model-00001-of-00001.safetensors',\n",
              " 'h.1.mlp.c_fc.weight': 'model-00001-of-00001.safetensors',\n",
              " 'h.1.mlp.c_proj.bias': 'model-00001-of-00001.safetensors',\n",
              " 'h.1.mlp.c_proj.weight': 'model-00001-of-00001.safetensors',\n",
              " 'h.2.attn.c_attn.bias': 'model-00001-of-00001.safetensors',\n",
              " 'h.2.attn.c_attn.weight': 'model-00001-of-00001.safetensors',\n",
              " 'h.2.attn.c_proj.bias': 'model-00001-of-00001.safetensors',\n",
              " 'h.2.attn.c_proj.weight': 'model-00001-of-00001.safetensors',\n",
              " 'h.2.ln_1.bias': 'model-00001-of-00001.safetensors',\n",
              " 'h.2.ln_1.weight': 'model-00001-of-00001.safetensors',\n",
              " 'h.2.ln_2.bias': 'model-00001-of-00001.safetensors',\n",
              " 'h.2.ln_2.weight': 'model-00001-of-00001.safetensors',\n",
              " 'h.2.mlp.c_fc.bias': 'model-00001-of-00001.safetensors',\n",
              " 'h.2.mlp.c_fc.weight': 'model-00001-of-00001.safetensors',\n",
              " 'h.2.mlp.c_proj.bias': 'model-00001-of-00001.safetensors',\n",
              " 'h.2.mlp.c_proj.weight': 'model-00001-of-00001.safetensors',\n",
              " 'h.3.attn.c_attn.bias': 'model-00001-of-00001.safetensors',\n",
              " 'h.3.attn.c_attn.weight': 'model-00001-of-00001.safetensors',\n",
              " 'h.3.attn.c_proj.bias': 'model-00001-of-00001.safetensors',\n",
              " 'h.3.attn.c_proj.weight': 'model-00001-of-00001.safetensors',\n",
              " 'h.3.ln_1.bias': 'model-00001-of-00001.safetensors',\n",
              " 'h.3.ln_1.weight': 'model-00001-of-00001.safetensors',\n",
              " 'h.3.ln_2.bias': 'model-00001-of-00001.safetensors',\n",
              " 'h.3.ln_2.weight': 'model-00001-of-00001.safetensors',\n",
              " 'h.3.mlp.c_fc.bias': 'model-00001-of-00001.safetensors',\n",
              " 'h.3.mlp.c_fc.weight': 'model-00001-of-00001.safetensors',\n",
              " 'h.3.mlp.c_proj.bias': 'model-00001-of-00001.safetensors',\n",
              " 'h.3.mlp.c_proj.weight': 'model-00001-of-00001.safetensors',\n",
              " 'h.4.attn.c_attn.bias': 'model-00001-of-00001.safetensors',\n",
              " 'h.4.attn.c_attn.weight': 'model-00001-of-00001.safetensors',\n",
              " 'h.4.attn.c_proj.bias': 'model-00001-of-00001.safetensors',\n",
              " 'h.4.attn.c_proj.weight': 'model-00001-of-00001.safetensors',\n",
              " 'h.4.ln_1.bias': 'model-00001-of-00001.safetensors',\n",
              " 'h.4.ln_1.weight': 'model-00001-of-00001.safetensors',\n",
              " 'h.4.ln_2.bias': 'model-00001-of-00001.safetensors',\n",
              " 'h.4.ln_2.weight': 'model-00001-of-00001.safetensors',\n",
              " 'h.4.mlp.c_fc.bias': 'model-00001-of-00001.safetensors',\n",
              " 'h.4.mlp.c_fc.weight': 'model-00001-of-00001.safetensors',\n",
              " 'h.4.mlp.c_proj.bias': 'model-00001-of-00001.safetensors',\n",
              " 'h.4.mlp.c_proj.weight': 'model-00001-of-00001.safetensors',\n",
              " 'h.5.attn.c_attn.bias': 'model-00001-of-00001.safetensors',\n",
              " 'h.5.attn.c_attn.weight': 'model-00001-of-00001.safetensors',\n",
              " 'h.5.attn.c_proj.bias': 'model-00001-of-00001.safetensors',\n",
              " 'h.5.attn.c_proj.weight': 'model-00001-of-00001.safetensors',\n",
              " 'h.5.ln_1.bias': 'model-00001-of-00001.safetensors',\n",
              " 'h.5.ln_1.weight': 'model-00001-of-00001.safetensors',\n",
              " 'h.5.ln_2.bias': 'model-00001-of-00001.safetensors',\n",
              " 'h.5.ln_2.weight': 'model-00001-of-00001.safetensors',\n",
              " 'h.5.mlp.c_fc.bias': 'model-00001-of-00001.safetensors',\n",
              " 'h.5.mlp.c_fc.weight': 'model-00001-of-00001.safetensors',\n",
              " 'h.5.mlp.c_proj.bias': 'model-00001-of-00001.safetensors',\n",
              " 'h.5.mlp.c_proj.weight': 'model-00001-of-00001.safetensors',\n",
              " 'h.6.attn.c_attn.bias': 'model-00001-of-00001.safetensors',\n",
              " 'h.6.attn.c_attn.weight': 'model-00001-of-00001.safetensors',\n",
              " 'h.6.attn.c_proj.bias': 'model-00001-of-00001.safetensors',\n",
              " 'h.6.attn.c_proj.weight': 'model-00001-of-00001.safetensors',\n",
              " 'h.6.ln_1.bias': 'model-00001-of-00001.safetensors',\n",
              " 'h.6.ln_1.weight': 'model-00001-of-00001.safetensors',\n",
              " 'h.6.ln_2.bias': 'model-00001-of-00001.safetensors',\n",
              " 'h.6.ln_2.weight': 'model-00001-of-00001.safetensors',\n",
              " 'h.6.mlp.c_fc.bias': 'model-00001-of-00001.safetensors',\n",
              " 'h.6.mlp.c_fc.weight': 'model-00001-of-00001.safetensors',\n",
              " 'h.6.mlp.c_proj.bias': 'model-00001-of-00001.safetensors',\n",
              " 'h.6.mlp.c_proj.weight': 'model-00001-of-00001.safetensors',\n",
              " 'h.7.attn.c_attn.bias': 'model-00001-of-00001.safetensors',\n",
              " 'h.7.attn.c_attn.weight': 'model-00001-of-00001.safetensors',\n",
              " 'h.7.attn.c_proj.bias': 'model-00001-of-00001.safetensors',\n",
              " 'h.7.attn.c_proj.weight': 'model-00001-of-00001.safetensors',\n",
              " 'h.7.ln_1.bias': 'model-00001-of-00001.safetensors',\n",
              " 'h.7.ln_1.weight': 'model-00001-of-00001.safetensors',\n",
              " 'h.7.ln_2.bias': 'model-00001-of-00001.safetensors',\n",
              " 'h.7.ln_2.weight': 'model-00001-of-00001.safetensors',\n",
              " 'h.7.mlp.c_fc.bias': 'model-00001-of-00001.safetensors',\n",
              " 'h.7.mlp.c_fc.weight': 'model-00001-of-00001.safetensors',\n",
              " 'h.7.mlp.c_proj.bias': 'model-00001-of-00001.safetensors',\n",
              " 'h.7.mlp.c_proj.weight': 'model-00001-of-00001.safetensors',\n",
              " 'ln_f.bias': 'model-00001-of-00001.safetensors',\n",
              " 'ln_f.weight': 'model-00001-of-00001.safetensors',\n",
              " 'wpe.weight': 'model-00001-of-00001.safetensors',\n",
              " 'wte.weight': 'model-00001-of-00001.safetensors'}"
            ]
          },
          "execution_count": 2,
          "metadata": {},
          "output_type": "execute_result"
        }
      ],
      "source": [
        "tensor_paths"
      ]
    }
  ],
  "metadata": {
    "accelerator": "GPU",
    "colab": {
      "gpuType": "T4",
      "provenance": []
    },
    "kernelspec": {
      "display_name": "Python 3",
      "name": "python3"
    },
    "language_info": {
      "codemirror_mode": {
        "name": "ipython",
        "version": 3
      },
      "file_extension": ".py",
      "mimetype": "text/x-python",
      "name": "python",
      "nbconvert_exporter": "python",
      "pygments_lexer": "ipython3",
      "version": "3.9.12"
    }
  },
  "nbformat": 4,
  "nbformat_minor": 0
}
